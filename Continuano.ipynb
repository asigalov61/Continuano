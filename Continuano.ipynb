{
 "cells": [
  {
   "cell_type": "markdown",
   "metadata": {
    "gradient": {
     "editing": false,
     "id": "ac5a4cf0-d9d2-47b5-9633-b53f8d99a4d2",
     "kernelId": ""
    },
    "id": "SiTIpPjArIyr"
   },
   "source": [
    "# Continuano (ver. 1.0)\n",
    "\n",
    "***\n",
    "\n",
    "Powered by tegridy-tools TMIDIX Optimus Processors: https://github.com/asigalov61/tegridy-tools\n",
    "\n",
    "***\n",
    "\n",
    "Credit for GPT2-RGA code used in this colab goes out @ Sashmark97 https://github.com/Sashmark97/midigen and @ Damon Gwinn https://github.com/gwinndr/MusicTransformer-Pytorch\n",
    "\n",
    "***\n",
    "\n",
    "WARNING: This complete implementation is a functioning model of the Artificial Intelligence. Please excercise great humility, care, and respect. https://www.nscai.gov/\n",
    "\n",
    "***\n",
    "\n",
    "#### Project Los Angeles\n",
    "\n",
    "#### Tegridy Code 2021\n",
    "\n",
    "***"
   ]
  },
  {
   "cell_type": "markdown",
   "metadata": {
    "gradient": {
     "editing": false,
     "id": "fa0a611c-1803-42ae-bdf6-a49b5a4e781b",
     "kernelId": ""
    },
    "id": "gOd93yV0sGd2"
   },
   "source": [
    "# (Setup Environment)"
   ]
  },
  {
   "cell_type": "code",
   "execution_count": null,
   "metadata": {
    "cellView": "form",
    "gradient": {
     "editing": false,
     "id": "39411b40-9e39-416e-8fe4-d40f733e7956",
     "kernelId": ""
    },
    "id": "lw-4aqV3sKQG"
   },
   "outputs": [],
   "source": [
    "#@title nvidia-smi gpu check\n",
    "!nvidia-smi"
   ]
  },
  {
   "cell_type": "code",
   "execution_count": null,
   "metadata": {
    "cellView": "form",
    "gradient": {
     "editing": false,
     "id": "a1a45a91-d909-4fd4-b67a-5e16b971d179",
     "kernelId": ""
    },
    "id": "fX12Yquyuihc"
   },
   "outputs": [],
   "source": [
    "#@title Install all dependencies (run only once per session)\n",
    "\n",
    "!git clone https://github.com/asigalov61/tegridy-tools\n",
    "!pip install torch\n",
    "!pip install tqdm"
   ]
  },
  {
   "cell_type": "code",
   "execution_count": null,
   "metadata": {
    "cellView": "form",
    "gradient": {
     "editing": false,
     "id": "b8207b76-9514-4c07-95db-95a4742e52c5",
     "kernelId": ""
    },
    "id": "z7n9vnKmug1J"
   },
   "outputs": [],
   "source": [
    "#@title Import all needed modules\n",
    "os.chdir('../')\n",
    "print('Loading needed modules. Please wait...')\n",
    "import os\n",
    "from datetime import datetime\n",
    "import secrets\n",
    "import copy\n",
    "import tqdm as tqdm\n",
    "from tqdm import tqdm\n",
    "\n",
    "print('Loading TMIDIX module...')\n",
    "os.chdir('tegridy-tools/tegridy-tools')\n",
    "import TMIDIX\n",
    "from GPT2RGAX import *\n",
    "\n",
    "os.chdir('../')"
   ]
  },
  {
   "cell_type": "markdown",
   "metadata": {
    "id": "ObPxlEutsQBj"
   },
   "source": [
    "# (Load Continuano Model)"
   ]
  },
  {
   "cell_type": "code",
   "execution_count": null,
   "metadata": {
    "cellView": "form",
    "gradient": {
     "id": "c83edd89-9a36-430a-9fa7-3a967417c88e",
     "kernelId": ""
    },
    "id": "OaNkGcFo9UP_"
   },
   "outputs": [],
   "source": [
    "#@title Load/Reload the model\n",
    "full_path_to_model_checkpoint = \"../Continuano-Trained-Model.pth\" #@param {type:\"string\"}\n",
    "\n",
    "print('Loading the model...')\n",
    "config = GPTConfig(VOCAB_SIZE, \n",
    "                   max_seq,\n",
    "                   dim_feedforward=dim_feedforward,\n",
    "                   n_layer=6, \n",
    "                   n_head=8, \n",
    "                   n_embd=512,\n",
    "                   enable_rpr=True,\n",
    "                   er_len=max_seq)\n",
    "\n",
    "model = GPT(config).to(get_device())\n",
    "\n",
    "model.load_state_dict(torch.load(full_path_to_model_checkpoint))\n",
    "print('Done!')"
   ]
  },
  {
   "cell_type": "markdown",
   "metadata": {},
   "source": [
    "# (Load Seed MIDI)"
   ]
  },
  {
   "cell_type": "code",
   "execution_count": null,
   "metadata": {
    "gradient": {
     "id": "5f771604-39e7-431d-b1dd-86d7437b8872",
     "kernelId": ""
    }
   },
   "outputs": [],
   "source": [
    "data = TMIDIX.Optimus_MIDI_TXT_Processor('../Continuano-Seed.mid', \n",
    "                                         dataset_MIDI_events_time_denominator=10, \n",
    "                                         perfect_timings=True, \n",
    "                                         musenet_encoding=True, \n",
    "                                         char_offset=0, \n",
    "                                         MIDI_channel=-1, \n",
    "                                         MIDI_patch=range(0, 127)\n",
    "                                        )\n",
    "\n",
    "SONG = data[5]\n",
    "inputs = []\n",
    "for i in SONG:\n",
    "    if max(i) < 256 and max(i) >= 0:\n",
    "        if i[0] != 0:\n",
    "            inputs.extend([i[0]])\n",
    "      \n",
    "        inputs.extend([256+i[3]])"
   ]
  },
  {
   "cell_type": "markdown",
   "metadata": {
    "id": "UX1_5y5Fu8AH"
   },
   "source": [
    "# (GENERATE CONTINUATION)"
   ]
  },
  {
   "cell_type": "code",
   "execution_count": null,
   "metadata": {
    "cellView": "form",
    "gradient": {
     "id": "97793d01-6a74-4e34-be95-ea337277b38d",
     "kernelId": ""
    },
    "id": "M_K93hWWv2Yx"
   },
   "outputs": [],
   "source": [
    "#@title Generate and download a MIDI file\n",
    "\n",
    "number_of_tokens_to_generate = 1024 #@param {type:\"slider\", min:8, max:1024, step:8}\n",
    "use_random_primer = False #@param {type:\"boolean\"}\n",
    "start_with_zero_token = True #@param {type:\"boolean\"}\n",
    "\n",
    "\n",
    "fname = 'Continuano-Composition'\n",
    "\n",
    "print('Continuano Model Generator')\n",
    "\n",
    "output_signature = 'Continuano'\n",
    "song_name = 'RGA Composition'\n",
    "\n",
    "model.eval()\n",
    "\n",
    "if use_random_primer:\n",
    "  sequence = [random.randint(10, 387) for i in range(64)]\n",
    "  idx = secrets.randbelow(len(sequence))\n",
    "  rand_seq = model.generate(torch.Tensor(sequence[idx:idx+120]), target_seq_length=number_of_tokens_to_generate)\n",
    "  out = rand_seq[0].cpu().numpy().tolist()\n",
    "\n",
    "else:\n",
    "  out = []\n",
    "  \n",
    "  try:\n",
    "    if start_with_zero_token:\n",
    "      sequence = inputs[-512:]\n",
    "      rand_seq = model.generate(torch.Tensor(sequence), target_seq_length=number_of_tokens_to_generate, stop_token=256+512)\n",
    "      out = rand_seq[0].cpu().numpy().tolist()\n",
    "    else:\n",
    "      idx = secrets.randbelow(len(train_data))\n",
    "      sequence = train_data[idx:idx+512]\n",
    "      rand_seq = model.generate(torch.Tensor(sequence), target_seq_length=number_of_tokens_to_generate, stop_token=256+512)\n",
    "      out = rand_seq[0].cpu().numpy().tolist()\n",
    "  \n",
    "  except:\n",
    "    print('=' * 50)\n",
    "    print('Error! Try random priming instead!')\n",
    "    print('Shutting down...')\n",
    "    print('=' * 50)\n",
    "\n",
    "if len(out) != 0:\n",
    "  song = []\n",
    "  song = out\n",
    "  song_f = []\n",
    "  time = 0\n",
    "\n",
    "  pitch = 0\n",
    "  duration = 0\n",
    "  once = True\n",
    "  for s in song:\n",
    "    if s >= 0 and s <= 256:\n",
    "        time += s\n",
    "\n",
    "    if s >= 256 and s < 512:\n",
    "        pitch = s-256\n",
    "        song_f.append(['note', (abs(time))*10, 500, 0, pitch, pitch ])\n",
    "  \n",
    "    if song.index(s) >= len(sequence) and once:\n",
    "        song_f.append(['text_event', abs(time) * 10, 'Continuation Starts Here'])\n",
    "        once = False\n",
    "    \n",
    "  detailed_stats = TMIDIX.Tegridy_SONG_to_MIDI_Converter(song_f,\n",
    "                                                        output_signature = 'Continuano',  \n",
    "                                                        output_file_name = '../Continuano-Composition', \n",
    "                                                        track_name='Project Los Angeles', \n",
    "                                                        number_of_ticks_per_quarter=500)\n",
    "\n",
    "  print('Done!')\n",
    "\n",
    "  print('=' * 70)\n",
    "  print('Detailed MIDI stats:')\n",
    "  for key, value in detailed_stats.items():\n",
    "        print('=' * 70)\n",
    "        print(key, '|', value)\n",
    "\n",
    "  print('=' * 70)\n",
    "\n",
    "else:\n",
    "  print('Models output is empty! Check the code...')\n",
    "  print('Shutting down...')"
   ]
  },
  {
   "cell_type": "markdown",
   "metadata": {
    "id": "YzCMd94Tu_gz"
   },
   "source": [
    "# Congrats! You did it! :)"
   ]
  }
 ],
 "metadata": {
  "accelerator": "GPU",
  "colab": {
   "collapsed_sections": [],
   "machine_shape": "hm",
   "name": "Optimus_VIRTUOSO_Multi_Instrumental_RGA_Edition.ipynb",
   "private_outputs": true,
   "provenance": []
  },
  "kernelspec": {
   "display_name": "Python 3 (ipykernel)",
   "language": "python",
   "name": "python3"
  },
  "language_info": {
   "codemirror_mode": {
    "name": "ipython",
    "version": 3
   },
   "file_extension": ".py",
   "mimetype": "text/x-python",
   "name": "python",
   "nbconvert_exporter": "python",
   "pygments_lexer": "ipython3",
   "version": "3.8.12"
  }
 },
 "nbformat": 4,
 "nbformat_minor": 4
}
